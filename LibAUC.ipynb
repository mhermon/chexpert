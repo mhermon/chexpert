{
 "cells": [
  {
   "cell_type": "code",
   "execution_count": 1,
   "metadata": {},
   "outputs": [
    {
     "name": "stdout",
     "output_type": "stream",
     "text": [
      "Defaulting to user installation because normal site-packages is not writeable\n",
      "Collecting libauc\n",
      "  Downloading libauc-1.1.6-py3-none-any.whl (35 kB)\n",
      "Requirement already satisfied: scikit-learn in /usr/local/lib/python3.8/dist-packages (from libauc) (0.23.1)\n",
      "Collecting torch>=1.2\n",
      "  Downloading torch-1.10.0-cp38-cp38-manylinux1_x86_64.whl (881.9 MB)\n",
      "\u001b[K     |████████████████████████████████| 881.9 MB 2.2 kB/s  eta 0:00:012 |                                | 276 kB 1.1 MB/s eta 0:12:53     |█▍                              | 38.3 MB 1.1 MB/s eta 0:12:20     |█▍                              | 39.8 MB 1.1 MB/s eta 0:12:18     |█████▎                          | 144.4 MB 57.5 MB/s eta 0:00:13     |█████▎                          | 145.2 MB 57.5 MB/s eta 0:00:13     |██████▎                         | 172.8 MB 1.3 MB/s eta 0:09:025319     |████████▋                       | 237.7 MB 31.9 MB/s eta 0:00:21��█▋                   | 348.2 MB 120.5 MB/s eta 0:00:05        | 380.4 MB 28.1 MB/s eta 0:00:18�█████████▉                 | 408.0 MB 35.3 MB/s eta 0:00:14�██████████                 | 410.9 MB 35.3 MB/s eta 0:00:14/s eta 0:00:24     |███████████████▉                | 435.1 MB 19.5 MB/s eta 0:00:23��▏               | 446.3 MB 19.5 MB/s eta 0:00:23��▊               | 461.9 MB 19.5 MB/s eta 0:00:22�               | 462.3 MB 19.5 MB/s eta 0:00:22     |████████████████▉               | 463.3 MB 357 kB/s eta 0:19:31465.0 MB 357 kB/s eta 0:19:27  | 469.6 MB 357 kB/s eta 0:19:14��██████               | 469.8 MB 357 kB/s eta 0:19:13��███████▎              | 474.8 MB 357 kB/s eta 0:18:59�██████▊              | 488.6 MB 2.0 MB/s eta 0:03:21��███████▉              | 493.0 MB 2.0 MB/s eta 0:03:19  | 493.2 MB 2.0 MB/s eta 0:03:19     |██████████████████▎             | 502.5 MB 246 kB/s eta 0:25:37     |██████████████████▌             | 510.9 MB 246 kB/s eta 0:25:03[K     |██████████████████▊             | 515.4 MB 246 kB/s eta 0:24:45     |██████████████████▉             | 519.7 MB 246 kB/s eta 0:24:27     |███████████████████▏            | 529.6 MB 246 kB/s eta 0:23:47��███████████████▋            | 540.5 MB 72.1 MB/s eta 0:00:05     |████████████████████            | 552.6 MB 72.1 MB/s eta 0:00:05     |█████████████████████           | 578.3 MB 72.1 MB/s eta 0:00:05:00:04 eta 0:00:049 MB/s eta 0:00:04 eta 0:00:04:00:04     |██████████████████████          | 606.8 MB 71.9 MB/s eta 0:00:04:00:04        | 618.0 MB 39.3 MB/s eta 0:00:07        | 623.0 MB 39.3 MB/s eta 0:00:07     |██████████████████████▊         | 625.6 MB 519 kB/s eta 0:08:14MB 519 kB/s eta 0:08:14█▊         | 626.1 MB 519 kB/s eta 0:08:13MB 519 kB/s eta 0:07:59██         | 633.8 MB 519 kB/s eta 0:07:59     |███████████████████████▏        | 638.8 MB 519 kB/s eta 0:07:49     |███████████████████████▎        | 641.8 MB 519 kB/s eta 0:07:43██████████████████████▏       | 665.9 MB 54.4 MB/s eta 0:00:04     |████████████████████████▎       | 668.5 MB 54.4 MB/s eta 0:00:04     |████████████████████████▋       | 677.0 MB 54.4 MB/s eta 0:00:04     |████████████████████████▋       | 677.9 MB 54.4 MB/s eta 0:00:04     |█████████████████████████       | 688.4 MB 107.4 MB/s eta 0:00:02 709.8 MB 107.4 MB/s eta 0:00:02��██▋     | 734.7 MB 18.4 MB/s eta 0:00:08��██▉     | 741.0 MB 18.4 MB/s eta 0:00:08��███████████████████     | 741.2 MB 18.4 MB/s eta 0:00:08     |███████████████████████████     | 743.6 MB 18.4 MB/s eta 0:00:08     |███████████████████████████     | 745.2 MB 18.4 MB/s eta 0:00:08��█████████████▏    | 747.7 MB 18.4 MB/s eta 0:00:08     |███████████████████████████▎    | 753.0 MB 953 kB/s eta 0:02:16��████████▋    | 761.7 MB 953 kB/s eta 0:02:07��█████████    | 770.6 MB 953 kB/s eta 0:01:57��████████████████████████▍   | 783.1 MB 48.6 MB/s eta 0:00:03��████████████████████████▌   | 784.1 MB 48.6 MB/s eta 0:00:03��████████████████████████▌   | 786.7 MB 48.6 MB/s eta 0:00:02     |████████████████████████████▊   | 792.7 MB 48.6 MB/s eta 0:00:02�███████████████████████▊   | 792.8 MB 48.6 MB/s eta 0:00:02��█████████████████████████   | 798.5 MB 48.6 MB/s eta 0:00:02     |█████████████████████████████▎  | 805.5 MB 844 kB/s eta 0:01:31█████████████████████████████▎  | 807.5 MB 844 kB/s eta 0:01:29█████████████████████████████▍  | 810.8 MB 844 kB/s eta 0:01:25�███████████████████████████▍  | 811.0 MB 844 kB/s eta 0:01:24��█████████████████████████▍  | 811.1 MB 844 kB/s eta 0:01:24     |█████████████████████████████▍  | 811.2 MB 844 kB/s eta 0:01:24|█████████████████████████████▍  | 811.3 MB 321 kB/s eta 0:03:40    |█████████████████████████████▌  | 813.4 MB 321 kB/s eta 0:03:34    |█████████████████████████████▋  | 815.8 MB 321 kB/s eta 0:03:26    |█████████████████████████████▋  | 817.5 MB 321 kB/s eta 0:03:21    |█████████████████████████████▉  | 822.5 MB 321 kB/s eta 0:03:06    |██████████████████████████████  | 824.1 MB 359 kB/s eta 0:02:41██████████████████████████████  | 824.2 MB 359 kB/s eta 0:02:41     |██████████████████████████████  | 825.5 MB 359 kB/s eta 0:02:37    |██████████████████████████████  | 825.8 MB 359 kB/s eta 0:02:36     |██████████████████████████████  | 828.8 MB 1.1 MB/s eta 0:00:49     |██████████████████████████████▎ | 835.4 MB 1.1 MB/s eta 0:00:435 MB 1.1 MB/s eta 0:00:39     |██████████████████████████████▊ | 845.2 MB 1.1 MB/s eta 0:00:347 MB 1.1 MB/s eta 0:00:32     |██████████████████████████████▉ | 850.5 MB 5.8 MB/s eta 0:00:06 5.8 MB/s eta 0:00:068 MB 5.8 MB/s eta 0:00:05\n",
      "\u001b[?25hRequirement already satisfied: tensorflow>=2.0.0 in /home/mhermon/.local/lib/python3.8/site-packages (from libauc) (2.3.0)\n",
      "Requirement already satisfied: numpy in /home/mhermon/.local/lib/python3.8/site-packages (from libauc) (1.18.5)\n",
      "Requirement already satisfied: pandas in /usr/local/lib/python3.8/dist-packages (from libauc) (1.1.0)\n",
      "Requirement already satisfied: opencv-python in /home/mhermon/.local/lib/python3.8/site-packages (from libauc) (4.5.3.56)\n",
      "Requirement already satisfied: scikit-image in /usr/local/lib/python3.8/dist-packages (from libauc) (0.17.2)\n",
      "Requirement already satisfied: Pillow in /usr/local/lib/python3.8/dist-packages (from libauc) (8.0.1)\n",
      "Requirement already satisfied: threadpoolctl>=2.0.0 in /usr/local/lib/python3.8/dist-packages (from scikit-learn->libauc) (2.1.0)\n",
      "Requirement already satisfied: joblib>=0.11 in /usr/local/lib/python3.8/dist-packages (from scikit-learn->libauc) (0.17.0)\n",
      "Requirement already satisfied: scipy>=0.19.1 in /home/mhermon/.local/lib/python3.8/site-packages (from scikit-learn->libauc) (1.4.1)\n",
      "Requirement already satisfied: typing-extensions in /home/mhermon/.local/lib/python3.8/site-packages (from torch>=1.2->libauc) (3.7.4.3)\n",
      "Requirement already satisfied: google-pasta>=0.1.8 in /home/mhermon/.local/lib/python3.8/site-packages (from tensorflow>=2.0.0->libauc) (0.2.0)\n",
      "Requirement already satisfied: astunparse==1.6.3 in /home/mhermon/.local/lib/python3.8/site-packages (from tensorflow>=2.0.0->libauc) (1.6.3)\n",
      "Requirement already satisfied: tensorboard<3,>=2.3.0 in /home/mhermon/.local/lib/python3.8/site-packages (from tensorflow>=2.0.0->libauc) (2.7.0)\n",
      "Requirement already satisfied: wheel>=0.26 in /home/mhermon/.local/lib/python3.8/site-packages (from tensorflow>=2.0.0->libauc) (0.37.0)\n",
      "Requirement already satisfied: keras-preprocessing<1.2,>=1.1.1 in /home/mhermon/.local/lib/python3.8/site-packages (from tensorflow>=2.0.0->libauc) (1.1.2)\n",
      "Requirement already satisfied: tensorflow-estimator<2.4.0,>=2.3.0 in /home/mhermon/.local/lib/python3.8/site-packages (from tensorflow>=2.0.0->libauc) (2.3.0)\n",
      "Requirement already satisfied: protobuf>=3.9.2 in /home/mhermon/.local/lib/python3.8/site-packages (from tensorflow>=2.0.0->libauc) (3.19.0)\n",
      "Requirement already satisfied: wrapt>=1.11.1 in /home/mhermon/.local/lib/python3.8/site-packages (from tensorflow>=2.0.0->libauc) (1.13.2)\n",
      "Requirement already satisfied: grpcio>=1.8.6 in /home/mhermon/.local/lib/python3.8/site-packages (from tensorflow>=2.0.0->libauc) (1.41.0)\n",
      "Requirement already satisfied: six>=1.12.0 in /home/mhermon/.local/lib/python3.8/site-packages (from tensorflow>=2.0.0->libauc) (1.16.0)\n",
      "Requirement already satisfied: absl-py>=0.7.0 in /home/mhermon/.local/lib/python3.8/site-packages (from tensorflow>=2.0.0->libauc) (0.15.0)\n",
      "Requirement already satisfied: opt-einsum>=2.3.2 in /home/mhermon/.local/lib/python3.8/site-packages (from tensorflow>=2.0.0->libauc) (3.3.0)\n",
      "Requirement already satisfied: gast==0.3.3 in /home/mhermon/.local/lib/python3.8/site-packages (from tensorflow>=2.0.0->libauc) (0.3.3)\n"
     ]
    },
    {
     "name": "stdout",
     "output_type": "stream",
     "text": [
      "Requirement already satisfied: termcolor>=1.1.0 in /home/mhermon/.local/lib/python3.8/site-packages (from tensorflow>=2.0.0->libauc) (1.1.0)\n",
      "Requirement already satisfied: h5py<2.11.0,>=2.10.0 in /home/mhermon/.local/lib/python3.8/site-packages (from tensorflow>=2.0.0->libauc) (2.10.0)\n",
      "Requirement already satisfied: pytz>=2017.2 in /usr/local/lib/python3.8/dist-packages (from pandas->libauc) (2020.4)\n",
      "Requirement already satisfied: python-dateutil>=2.7.3 in /usr/local/lib/python3.8/dist-packages (from pandas->libauc) (2.8.1)\n",
      "Requirement already satisfied: networkx>=2.0 in /usr/local/lib/python3.8/dist-packages (from scikit-image->libauc) (2.5)\n",
      "Requirement already satisfied: matplotlib!=3.0.0,>=2.0.0 in /usr/local/lib/python3.8/dist-packages (from scikit-image->libauc) (3.3.0)\n",
      "Requirement already satisfied: imageio>=2.3.0 in /usr/local/lib/python3.8/dist-packages (from scikit-image->libauc) (2.9.0)\n",
      "Requirement already satisfied: tifffile>=2019.7.26 in /usr/local/lib/python3.8/dist-packages (from scikit-image->libauc) (2020.11.18)\n",
      "Requirement already satisfied: PyWavelets>=1.1.1 in /usr/local/lib/python3.8/dist-packages (from scikit-image->libauc) (1.1.1)\n",
      "Requirement already satisfied: requests<3,>=2.21.0 in /home/mhermon/.local/lib/python3.8/site-packages (from tensorboard<3,>=2.3.0->tensorflow>=2.0.0->libauc) (2.26.0)\n",
      "Requirement already satisfied: werkzeug>=0.11.15 in /home/mhermon/.local/lib/python3.8/site-packages (from tensorboard<3,>=2.3.0->tensorflow>=2.0.0->libauc) (2.0.2)\n",
      "Requirement already satisfied: google-auth<3,>=1.6.3 in /home/mhermon/.local/lib/python3.8/site-packages (from tensorboard<3,>=2.3.0->tensorflow>=2.0.0->libauc) (2.3.0)\n",
      "Requirement already satisfied: setuptools>=41.0.0 in /home/mhermon/.local/lib/python3.8/site-packages (from tensorboard<3,>=2.3.0->tensorflow>=2.0.0->libauc) (58.3.0)\n",
      "Requirement already satisfied: google-auth-oauthlib<0.5,>=0.4.1 in /home/mhermon/.local/lib/python3.8/site-packages (from tensorboard<3,>=2.3.0->tensorflow>=2.0.0->libauc) (0.4.6)\n",
      "Requirement already satisfied: markdown>=2.6.8 in /home/mhermon/.local/lib/python3.8/site-packages (from tensorboard<3,>=2.3.0->tensorflow>=2.0.0->libauc) (3.3.4)\n",
      "Requirement already satisfied: tensorboard-plugin-wit>=1.6.0 in /home/mhermon/.local/lib/python3.8/site-packages (from tensorboard<3,>=2.3.0->tensorflow>=2.0.0->libauc) (1.8.0)\n",
      "Requirement already satisfied: tensorboard-data-server<0.7.0,>=0.6.0 in /home/mhermon/.local/lib/python3.8/site-packages (from tensorboard<3,>=2.3.0->tensorflow>=2.0.0->libauc) (0.6.1)\n",
      "Requirement already satisfied: decorator>=4.3.0 in /usr/local/lib/python3.8/dist-packages (from networkx>=2.0->scikit-image->libauc) (4.4.2)\n",
      "Requirement already satisfied: cycler>=0.10 in /usr/local/lib/python3.8/dist-packages (from matplotlib!=3.0.0,>=2.0.0->scikit-image->libauc) (0.10.0)\n",
      "Requirement already satisfied: pyparsing!=2.0.4,!=2.1.2,!=2.1.6,>=2.0.3 in /usr/local/lib/python3.8/dist-packages (from matplotlib!=3.0.0,>=2.0.0->scikit-image->libauc) (2.4.7)\n",
      "Requirement already satisfied: kiwisolver>=1.0.1 in /usr/local/lib/python3.8/dist-packages (from matplotlib!=3.0.0,>=2.0.0->scikit-image->libauc) (1.3.1)\n",
      "Requirement already satisfied: idna<4,>=2.5; python_version >= \"3\" in /home/mhermon/.local/lib/python3.8/site-packages (from requests<3,>=2.21.0->tensorboard<3,>=2.3.0->tensorflow>=2.0.0->libauc) (3.3)\n",
      "Requirement already satisfied: urllib3<1.27,>=1.21.1 in /home/mhermon/.local/lib/python3.8/site-packages (from requests<3,>=2.21.0->tensorboard<3,>=2.3.0->tensorflow>=2.0.0->libauc) (1.26.7)\n",
      "Requirement already satisfied: certifi>=2017.4.17 in /home/mhermon/.local/lib/python3.8/site-packages (from requests<3,>=2.21.0->tensorboard<3,>=2.3.0->tensorflow>=2.0.0->libauc) (2021.10.8)\n",
      "Requirement already satisfied: charset-normalizer~=2.0.0; python_version >= \"3\" in /home/mhermon/.local/lib/python3.8/site-packages (from requests<3,>=2.21.0->tensorboard<3,>=2.3.0->tensorflow>=2.0.0->libauc) (2.0.7)\n",
      "Requirement already satisfied: pyasn1-modules>=0.2.1 in /home/mhermon/.local/lib/python3.8/site-packages (from google-auth<3,>=1.6.3->tensorboard<3,>=2.3.0->tensorflow>=2.0.0->libauc) (0.2.8)\n",
      "Requirement already satisfied: rsa<5,>=3.1.4 in /home/mhermon/.local/lib/python3.8/site-packages (from google-auth<3,>=1.6.3->tensorboard<3,>=2.3.0->tensorflow>=2.0.0->libauc) (4.7.2)\n",
      "Requirement already satisfied: cachetools<5.0,>=2.0.0 in /home/mhermon/.local/lib/python3.8/site-packages (from google-auth<3,>=1.6.3->tensorboard<3,>=2.3.0->tensorflow>=2.0.0->libauc) (4.2.4)\n",
      "Requirement already satisfied: requests-oauthlib>=0.7.0 in /home/mhermon/.local/lib/python3.8/site-packages (from google-auth-oauthlib<0.5,>=0.4.1->tensorboard<3,>=2.3.0->tensorflow>=2.0.0->libauc) (1.3.0)\n",
      "Requirement already satisfied: pyasn1<0.5.0,>=0.4.6 in /home/mhermon/.local/lib/python3.8/site-packages (from pyasn1-modules>=0.2.1->google-auth<3,>=1.6.3->tensorboard<3,>=2.3.0->tensorflow>=2.0.0->libauc) (0.4.8)\n",
      "Requirement already satisfied: oauthlib>=3.0.0 in /home/mhermon/.local/lib/python3.8/site-packages (from requests-oauthlib>=0.7.0->google-auth-oauthlib<0.5,>=0.4.1->tensorboard<3,>=2.3.0->tensorflow>=2.0.0->libauc) (3.1.1)\n",
      "Installing collected packages: torch, libauc\n",
      "\u001b[33m  WARNING: The scripts convert-caffe2-to-onnx, convert-onnx-to-caffe2 and torchrun are installed in '/home/mhermon/.local/bin' which is not on PATH.\n",
      "  Consider adding this directory to PATH or, if you prefer to suppress this warning, use --no-warn-script-location.\u001b[0m\n",
      "Successfully installed libauc-1.1.6 torch-1.10.0\n",
      "\u001b[33mWARNING: You are using pip version 20.2.4; however, version 21.3.1 is available.\n",
      "You should consider upgrading via the '/usr/bin/python3 -m pip install --upgrade pip' command.\u001b[0m\n"
     ]
    }
   ],
   "source": [
    "!pip install libauc"
   ]
  },
  {
   "cell_type": "code",
   "execution_count": 3,
   "metadata": {},
   "outputs": [
    {
     "name": "stdout",
     "output_type": "stream",
     "text": [
      "Defaulting to user installation because normal site-packages is not writeable\n",
      "Collecting torchvision\n",
      "  Downloading torchvision-0.11.1-cp38-cp38-manylinux1_x86_64.whl (23.3 MB)\n",
      "\u001b[K     |████████████████████████████████| 23.3 MB 113 kB/s eta 0:00:01    |█                               | 727 kB 3.8 MB/s eta 0:00:06     |█████▌                          | 4.0 MB 3.8 MB/s eta 0:00:06\n",
      "\u001b[?25hRequirement already satisfied: numpy in /home/mhermon/.local/lib/python3.8/site-packages (from torchvision) (1.18.5)\n",
      "Requirement already satisfied: pillow!=8.3.0,>=5.3.0 in /usr/local/lib/python3.8/dist-packages (from torchvision) (8.0.1)\n",
      "Requirement already satisfied: torch==1.10.0 in /home/mhermon/.local/lib/python3.8/site-packages (from torchvision) (1.10.0)\n",
      "Requirement already satisfied: typing-extensions in /home/mhermon/.local/lib/python3.8/site-packages (from torch==1.10.0->torchvision) (3.7.4.3)\n",
      "Installing collected packages: torchvision\n",
      "Successfully installed torchvision-0.11.1\n",
      "\u001b[33mWARNING: You are using pip version 20.2.4; however, version 21.3.1 is available.\n",
      "You should consider upgrading via the '/usr/bin/python3 -m pip install --upgrade pip' command.\u001b[0m\n"
     ]
    }
   ],
   "source": [
    "!pip install torchvision"
   ]
  },
  {
   "cell_type": "code",
   "execution_count": 4,
   "metadata": {},
   "outputs": [],
   "source": [
    "from libauc.losses import AUCMLoss, CrossEntropyLoss\n",
    "from libauc.optimizers import PESG, Adam\n",
    "from libauc.models import DenseNet121, DenseNet169\n",
    "from libauc.datasets import CheXpert\n",
    "\n",
    "import torch \n",
    "from PIL import Image\n",
    "import numpy as np\n",
    "import torchvision.transforms as transforms\n",
    "from torch.utils.data import Dataset\n",
    "from sklearn.metrics import roc_auc_score"
   ]
  },
  {
   "cell_type": "code",
   "execution_count": 1,
   "metadata": {},
   "outputs": [],
   "source": [
    "import dataset"
   ]
  },
  {
   "cell_type": "code",
   "execution_count": 5,
   "metadata": {},
   "outputs": [],
   "source": [
    "def set_all_seeds(SEED):\n",
    "    # REPRODUCIBILITY\n",
    "    torch.manual_seed(SEED)\n",
    "    np.random.seed(SEED)\n",
    "    torch.backends.cudnn.deterministic = True\n",
    "    torch.backends.cudnn.benchmark = False"
   ]
  },
  {
   "cell_type": "code",
   "execution_count": null,
   "metadata": {},
   "outputs": [],
   "source": [
    "# dataloader\n",
    "root = './CheXpert/CheXpert-v1.0-small/'\n",
    "# Index: -1 denotes multi-label mode including 5 diseases\n",
    "# Returns image with label\n",
    "traindSet = \n",
    "testSet =  CheXpert(csv_path=root+'valid.csv',  image_root_path=root, use_upsampling=False, use_frontal=True, image_size=224, mode='valid', class_index=-1)\n",
    "trainloader =  torch.utils.data.DataLoader(traindSet, batch_size=32, num_workers=2, shuffle=True)\n",
    "testloader =  torch.utils.data.DataLoader(testSet, batch_size=32, num_workers=2, shuffle=False)\n",
    "\n",
    "# paramaters\n",
    "SEED = 123\n",
    "BATCH_SIZE = 32\n",
    "lr = 1e-4\n",
    "weight_decay = 1e-5\n",
    "\n",
    "# model\n",
    "set_all_seeds(SEED)\n",
    "model = DenseNet121(pretrained=True, last_activation=None, activations='relu', num_classes=5)\n",
    "model = model.cuda()\n",
    "\n",
    "# define loss & optimizer\n",
    "CELoss = CrossEntropyLoss()\n",
    "optimizer = Adam(model.parameters(), lr=lr, weight_decay=weight_decay)\n",
    "\n",
    "# training\n",
    "best_val_auc = 0 \n",
    "for epoch in range(1):\n",
    "    for idx, data in enumerate(trainloader):\n",
    "        train_data, train_labels = data\n",
    "        train_data, train_labels  = train_data.cuda(), train_labels.cuda()\n",
    "        y_pred = model(train_data)\n",
    "        loss = CELoss(y_pred, train_labels)\n",
    "        optimizer.zero_grad()\n",
    "        loss.backward()\n",
    "        optimizer.step()\n",
    "        \n",
    "        # validation  \n",
    "        if idx % 400 == 0:\n",
    "            model.eval()\n",
    "            with torch.no_grad():    \n",
    "                test_pred = []\n",
    "                test_true = [] \n",
    "                for jdx, data in enumerate(testloader):\n",
    "                    test_data, test_labels = data\n",
    "                    test_data = test_data.cuda()\n",
    "                    y_pred = model(test_data)\n",
    "                    test_pred.append(y_pred.cpu().detach().numpy())\n",
    "                    test_true.append(test_labels.numpy())\n",
    "            \n",
    "                test_true = np.concatenate(test_true)\n",
    "                test_pred = np.concatenate(test_pred)\n",
    "                val_auc_mean =  roc_auc_score(test_true, test_pred) \n",
    "                model.train()\n",
    "\n",
    "                if best_val_auc < val_auc_mean:\n",
    "                    best_val_auc = val_auc_mean\n",
    "                    torch.save(model.state_dict(), 'ce_pretrained_model.pth')\n",
    "\n",
    "                print ('Epoch=%s, BatchID=%s, Val_AUC=%.4f, Best_Val_AUC=%.4f'%(epoch, idx, val_auc_mean, best_val_auc ))"
   ]
  }
 ],
 "metadata": {
  "kernelspec": {
   "display_name": "Python 3",
   "language": "python",
   "name": "python3"
  },
  "language_info": {
   "codemirror_mode": {
    "name": "ipython",
    "version": 3
   },
   "file_extension": ".py",
   "mimetype": "text/x-python",
   "name": "python",
   "nbconvert_exporter": "python",
   "pygments_lexer": "ipython3",
   "version": "3.8.0"
  }
 },
 "nbformat": 4,
 "nbformat_minor": 4
}
