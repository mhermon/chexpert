{
 "cells": [
  {
   "cell_type": "code",
   "execution_count": 1,
   "metadata": {},
   "outputs": [],
   "source": [
    "import os\n",
    "from random import randrange\n",
    "from glob import glob\n",
    "\n",
    "import torch\n",
    "import pandas as pd\n",
    "import numpy as np\n",
    "from sklearn.model_selection import train_test_split\n",
    "from dataset import ChexpertDataset\n",
    "from model import MultiLabelClassification\n",
    "from torch.utils.data import DataLoader\n",
    "from sklearn.metrics import roc_auc_score\n",
    "from libauc.losses import AUCMLoss\n",
    "from libauc.optimizers import PESG"
   ]
  },
  {
   "cell_type": "code",
   "execution_count": 2,
   "metadata": {},
   "outputs": [],
   "source": [
    "# Get Data\n",
    "BASE_DIR = os.getcwd()\n",
    "DATA_DIR = os.path.join(BASE_DIR, '..', 'data')\n",
    "extra_valid_age_sex_df = pd.read_csv(os.path.join(DATA_DIR,'extra_valid_age_sex.csv'))\n",
    "extra_valid_hidden_features = np.load(os.path.join(DATA_DIR,'extra_valid_hidden_features.npy'))\n",
    "extra_valid_labels = np.load(os.path.join(DATA_DIR,'extra_valid_labels.npy'))\n",
    "extra_valid_images = glob(os.path.join(DATA_DIR, 'extraValid', '*'))"
   ]
  },
  {
   "cell_type": "code",
   "execution_count": 3,
   "metadata": {},
   "outputs": [],
   "source": [
    "# Add age and sex to hidden feature vectors\n",
    "extra_valid_age_sex_df = extra_valid_age_sex_df.replace(['F', 'M', 'O'], [0, 1, 2])\n",
    "extra_valid_age_sex_df = extra_valid_age_sex_df.apply(pd.to_numeric)\n",
    "extra_valid_age_sex_np = extra_valid_age_sex_df.to_numpy()\n",
    "hidden_with_age_sex = np.concatenate((extra_valid_hidden_features, extra_valid_age_sex_np), axis=1)\n",
    "#hidden_with_age_sex = hidden_with_age_sex.astype('float32')\n",
    "hidden_with_age_sex = extra_valid_hidden_features.astype('float32')"
   ]
  },
  {
   "cell_type": "code",
   "execution_count": 4,
   "metadata": {},
   "outputs": [],
   "source": [
    "def set_all_seeds(SEED):\n",
    "    # REPRODUCIBILITY\n",
    "    torch.manual_seed(SEED)\n",
    "    np.random.seed(SEED)\n",
    "    torch.backends.cudnn.deterministic = True\n",
    "    torch.backends.cudnn.benchmark = False\n",
    "seed = 144\n",
    "set_all_seeds(seed)"
   ]
  },
  {
   "cell_type": "code",
   "execution_count": 5,
   "metadata": {},
   "outputs": [],
   "source": [
    "# Split into train and validation\n",
    "X_train, X_val, y_train, y_val = train_test_split(hidden_with_age_sex, extra_valid_labels, test_size=0.2, random_state=seed)"
   ]
  },
  {
   "cell_type": "code",
   "execution_count": 6,
   "metadata": {},
   "outputs": [],
   "source": [
    "# Label smoothing\n",
    "y_train[y_train == -1] = 1\n",
    "y_val[y_val == -1] = 1"
   ]
  },
  {
   "cell_type": "code",
   "execution_count": 7,
   "metadata": {},
   "outputs": [],
   "source": [
    "# Load data into DataLoader\n",
    "train_set = ChexpertDataset(X_train, y=y_train, scale_X=True)\n",
    "val_set = ChexpertDataset(X_val, y=y_val, scale_X=True)\n",
    "train_loader = DataLoader(train_set,\n",
    "                         batch_size=16,\n",
    "                         shuffle=True,\n",
    "                         num_workers=2)\n",
    "val_loader = DataLoader(val_set,\n",
    "                        batch_size=16,\n",
    "                        shuffle=False,\n",
    "                        num_workers=2)"
   ]
  },
  {
   "cell_type": "code",
   "execution_count": 8,
   "metadata": {},
   "outputs": [
    {
     "name": "stdout",
     "output_type": "stream",
     "text": [
      "Epoch=0, BatchID=0, Val_AUC=0.5222, lr=0.0500\n",
      "Epoch=1, BatchID=0, Val_AUC=0.6650, lr=0.0500\n",
      "Epoch=2, BatchID=0, Val_AUC=0.7218, lr=0.0500\n",
      "Epoch=3, BatchID=0, Val_AUC=0.7598, lr=0.0500\n",
      "Reducing learning rate to 0.01000 @ T=404!\n",
      "Updating regularizer @ T=404!\n",
      "Epoch=4, BatchID=0, Val_AUC=0.7308, lr=0.0100\n",
      "Epoch=5, BatchID=0, Val_AUC=0.7372, lr=0.0100\n",
      "Epoch=6, BatchID=0, Val_AUC=0.7417, lr=0.0100\n",
      "Epoch=7, BatchID=0, Val_AUC=0.7418, lr=0.0100\n",
      "Reducing learning rate to 0.00200 @ T=404!\n",
      "Updating regularizer @ T=404!\n",
      "Epoch=8, BatchID=0, Val_AUC=0.7435, lr=0.0020\n",
      "Epoch=9, BatchID=0, Val_AUC=0.7447, lr=0.0020\n",
      "Epoch=10, BatchID=0, Val_AUC=0.7443, lr=0.0020\n",
      "Epoch=11, BatchID=0, Val_AUC=0.7446, lr=0.0020\n",
      "Reducing learning rate to 0.00040 @ T=404!\n",
      "Updating regularizer @ T=404!\n",
      "Epoch=12, BatchID=0, Val_AUC=0.7453, lr=0.0004\n",
      "Epoch=13, BatchID=0, Val_AUC=0.7453, lr=0.0004\n",
      "Epoch=14, BatchID=0, Val_AUC=0.7454, lr=0.0004\n",
      "Epoch=15, BatchID=0, Val_AUC=0.7454, lr=0.0004\n",
      "Reducing learning rate to 0.00008 @ T=404!\n",
      "Updating regularizer @ T=404!\n",
      "Epoch=16, BatchID=0, Val_AUC=0.7453, lr=0.0001\n",
      "Epoch=17, BatchID=0, Val_AUC=0.7453, lr=0.0001\n",
      "Epoch=18, BatchID=0, Val_AUC=0.7453, lr=0.0001\n",
      "Epoch=19, BatchID=0, Val_AUC=0.7453, lr=0.0001\n",
      "Reducing learning rate to 0.00002 @ T=404!\n",
      "Updating regularizer @ T=404!\n",
      "Epoch=20, BatchID=0, Val_AUC=0.7455, lr=0.0000\n",
      "Epoch=21, BatchID=0, Val_AUC=0.7455, lr=0.0000\n",
      "Epoch=22, BatchID=0, Val_AUC=0.7455, lr=0.0000\n",
      "Epoch=23, BatchID=0, Val_AUC=0.7455, lr=0.0000\n",
      "Best Val_AUC is 0.7598\n"
     ]
    }
   ],
   "source": [
    "# paramaters\n",
    "BATCH_SIZE = 16\n",
    "imratio = 0.3424\n",
    "lr = 0.05 # using smaller learning rate is better\n",
    "gamma = 500\n",
    "weight_decay = 1e-5\n",
    "margin = 1.0\n",
    "features = X_train.shape[1]\n",
    "classes = y_train.shape[1]\n",
    "\n",
    "# model\n",
    "model = MultiLabelClassification(num_feature=features, num_class=classes)\n",
    "model = model.cuda()\n",
    "\n",
    "# define loss & optimizer\n",
    "Loss = AUCMLoss(imratio=imratio)\n",
    "optimizer = PESG(model, \n",
    "                 a=Loss.a, \n",
    "                 b=Loss.b, \n",
    "                 alpha=Loss.alpha, \n",
    "                 imratio=imratio, \n",
    "                 lr=lr, \n",
    "                 gamma=gamma, \n",
    "                 margin=margin, \n",
    "                 weight_decay=weight_decay)\n",
    "\n",
    "best_val_auc = 0\n",
    "for epoch in range(24):\n",
    "    if epoch % 4 == 0 and epoch > 0:\n",
    "         optimizer.update_regularizer(decay_factor=5)\n",
    "    for idx, data in enumerate(train_loader):\n",
    "        train_data, train_labels = data\n",
    "        train_data, train_labels = train_data.cuda(), train_labels.cuda()\n",
    "        y_pred = model(train_data)\n",
    "        loss = Loss(y_pred, train_labels)\n",
    "        optimizer.zero_grad()\n",
    "        loss.backward()\n",
    "        optimizer.step()\n",
    "\n",
    "        # validation\n",
    "        if idx % 400 == 0:\n",
    "            model.eval()\n",
    "            with torch.no_grad():    \n",
    "                test_pred = []\n",
    "                test_true = [] \n",
    "                for jdx, data in enumerate(val_loader):\n",
    "                    test_data, test_label = data\n",
    "                    test_data = test_data.cuda()\n",
    "                    y_pred = model(test_data)\n",
    "                    test_pred.append(y_pred.cpu().detach().numpy())\n",
    "                    test_true.append(test_label.numpy())\n",
    "\n",
    "                test_true = np.concatenate(test_true)\n",
    "                test_pred = np.concatenate(test_pred)\n",
    "                val_auc =  roc_auc_score(test_true, test_pred) \n",
    "                model.train()\n",
    "\n",
    "                if best_val_auc < val_auc:\n",
    "                    best_val_auc = val_auc\n",
    "\n",
    "            print('Epoch=%s, BatchID=%s, Val_AUC=%.4f, lr=%.4f'%(epoch, idx, val_auc,  optimizer.lr))\n",
    "\n",
    "print ('Best Val_AUC is %.4f'%best_val_auc)"
   ]
  },
  {
   "cell_type": "code",
   "execution_count": null,
   "metadata": {},
   "outputs": [],
   "source": []
  }
 ],
 "metadata": {
  "kernelspec": {
   "display_name": "Python 3",
   "language": "python",
   "name": "python3"
  },
  "language_info": {
   "codemirror_mode": {
    "name": "ipython",
    "version": 3
   },
   "file_extension": ".py",
   "mimetype": "text/x-python",
   "name": "python",
   "nbconvert_exporter": "python",
   "pygments_lexer": "ipython3",
   "version": "3.8.0"
  }
 },
 "nbformat": 4,
 "nbformat_minor": 4
}
