{
 "cells": [
  {
   "cell_type": "code",
   "execution_count": 71,
   "metadata": {},
   "outputs": [],
   "source": [
    "import os\n",
    "import torch\n",
    "import numpy as np\n",
    "import pandas as pd\n",
    "from sklearn.metrics import roc_auc_score\n",
    "from statistics import mean"
   ]
  },
  {
   "cell_type": "code",
   "execution_count": 79,
   "metadata": {},
   "outputs": [],
   "source": [
    "BASE_DIR = os.getcwd()\n",
    "DATA_DIR = os.path.join(BASE_DIR, '..', 'data')\n",
    "predictions_np = np.load(os.path.join(BASE_DIR, 'predictionsall.npy'))\n",
    "true_np = np.load(os.path.join(DATA_DIR, 'extra_valid_labels.npy'))\n",
    "predictions_1_np = np.load(os.path.join(BASE_DIR, 'predictions_1.npy'))"
   ]
  },
  {
   "cell_type": "code",
   "execution_count": 80,
   "metadata": {},
   "outputs": [],
   "source": [
    "label_headers = ['Cardiomegaly', 'Edema', 'Consolidation', 'Atelectasis', 'P. Effusion']\n",
    "predictions_df = pd.DataFrame(data=predictions_np, columns=label_headers)\n",
    "training_predictions_df = pd.DataFrame(data=training_predictions, columns=label_headers)\n",
    "true_df = pd.DataFrame(data=true_np, columns=label_headers)"
   ]
  },
  {
   "cell_type": "code",
   "execution_count": 81,
   "metadata": {},
   "outputs": [
    {
     "name": "stdout",
     "output_type": "stream",
     "text": [
      "0.8701546679703893\n"
     ]
    }
   ],
   "source": [
    "auc_all =  roc_auc_score(true_np, predictions_np) \n",
    "print(auc_all)"
   ]
  },
  {
   "cell_type": "code",
   "execution_count": 82,
   "metadata": {},
   "outputs": [
    {
     "name": "stdout",
     "output_type": "stream",
     "text": [
      "0.8633358542119002\n"
     ]
    }
   ],
   "source": [
    "# First column ROC\n",
    "col1_p = predictions_np[:, 0]\n",
    "col1_t = true_np[:, 0]\n",
    "auc_1 = roc_auc_score(col1_t, col1_p)\n",
    "print(auc_1)"
   ]
  },
  {
   "cell_type": "code",
   "execution_count": 83,
   "metadata": {},
   "outputs": [
    {
     "name": "stdout",
     "output_type": "stream",
     "text": [
      "0.9776007964161275\n"
     ]
    }
   ],
   "source": [
    "# Second column ROC\n",
    "col2_p = predictions_np[:, 1]\n",
    "col2_t = true_np[:, 1]\n",
    "auc_2 = roc_auc_score(col2_t, col2_p)\n",
    "print(auc_2)"
   ]
  },
  {
   "cell_type": "code",
   "execution_count": 84,
   "metadata": {},
   "outputs": [
    {
     "name": "stdout",
     "output_type": "stream",
     "text": [
      "0.8476016284146557\n"
     ]
    }
   ],
   "source": [
    "# Third column ROC\n",
    "col3_p = predictions_np[:, 2]\n",
    "col3_t = true_np[:, 2]\n",
    "auc_3 = roc_auc_score(col3_t, col3_p)\n",
    "print(auc_3)\n",
    "# Struggling"
   ]
  },
  {
   "cell_type": "code",
   "execution_count": 85,
   "metadata": {},
   "outputs": [
    {
     "name": "stdout",
     "output_type": "stream",
     "text": [
      "0.7168530010085987\n"
     ]
    }
   ],
   "source": [
    "# Fourth Column ROC\n",
    "col4_p = predictions_np[:, 3]\n",
    "col4_t = true_np[:, 3]\n",
    "auc_4 = roc_auc_score(col4_t, col4_p)\n",
    "print(auc_4)\n",
    "# Struggling"
   ]
  },
  {
   "cell_type": "code",
   "execution_count": 86,
   "metadata": {},
   "outputs": [
    {
     "name": "stdout",
     "output_type": "stream",
     "text": [
      "0.9453820598006645\n"
     ]
    }
   ],
   "source": [
    "# Fifth Column ROC\n",
    "col5_p = predictions_np[:, 4]\n",
    "col5_t = true_np[:, 4]\n",
    "auc_5 = roc_auc_score(col5_t, col5_p)\n",
    "print(auc_5)"
   ]
  },
  {
   "cell_type": "code",
   "execution_count": 78,
   "metadata": {},
   "outputs": [
    {
     "name": "stdout",
     "output_type": "stream",
     "text": [
      "0.8253501726777177\n"
     ]
    }
   ],
   "source": [
    "print(mean([auc_1, auc_2, auc_3, auc_4, auc_5]))"
   ]
  },
  {
   "cell_type": "code",
   "execution_count": null,
   "metadata": {},
   "outputs": [],
   "source": []
  }
 ],
 "metadata": {
  "kernelspec": {
   "display_name": "Python 3",
   "language": "python",
   "name": "python3"
  },
  "language_info": {
   "codemirror_mode": {
    "name": "ipython",
    "version": 3
   },
   "file_extension": ".py",
   "mimetype": "text/x-python",
   "name": "python",
   "nbconvert_exporter": "python",
   "pygments_lexer": "ipython3",
   "version": "3.8.0"
  }
 },
 "nbformat": 4,
 "nbformat_minor": 4
}
