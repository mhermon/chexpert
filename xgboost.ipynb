{
 "cells": [
  {
   "cell_type": "code",
   "execution_count": 2,
   "id": "b761f09b",
   "metadata": {},
   "outputs": [
    {
     "name": "stdout",
     "output_type": "stream",
     "text": [
      "Defaulting to user installation because normal site-packages is not writeable\n",
      "Collecting xgboost\n",
      "  Downloading xgboost-1.5.0-py3-none-manylinux2014_x86_64.whl (173.5 MB)\n",
      "     |████████████████████████████████| 173.5 MB 159.9 MB/s            \n",
      "\u001b[?25hRequirement already satisfied: scipy in /usr/local/lib/python3.9/site-packages (from xgboost) (1.6.0)\n",
      "Requirement already satisfied: numpy in /home/mhermon/.local/lib/python3.9/site-packages (from xgboost) (1.21.1)\n",
      "Installing collected packages: xgboost\n",
      "Successfully installed xgboost-1.5.0\n"
     ]
    }
   ],
   "source": [
    "!pip install xgboost"
   ]
  },
  {
   "cell_type": "code",
   "execution_count": 34,
   "id": "25a0d7aa",
   "metadata": {},
   "outputs": [],
   "source": [
    "import xgboost as xgb\n",
    "from sklearn.ensemble import GradientBoostingClassifier\n",
    "from sklearn.multioutput import MultiOutputClassifier\n",
    "from sklearn.metrics import f1_score, roc_auc_score, accuracy_score, roc_curve, plot_roc_curve"
   ]
  },
  {
   "cell_type": "code",
   "execution_count": 4,
   "id": "82927833",
   "metadata": {},
   "outputs": [],
   "source": [
    "import pandas as pd\n",
    "import numpy as np\n",
    "from matplotlib import pyplot as plt\n",
    "import matplotlib.image as mpimg\n",
    "import os\n",
    "from glob import glob\n",
    "from IPython.display import Image\n",
    "import random\n",
    "%matplotlib inline"
   ]
  },
  {
   "cell_type": "code",
   "execution_count": 5,
   "id": "67ef6e8d",
   "metadata": {},
   "outputs": [],
   "source": [
    "BASE_DIR = os.getcwd()\n",
    "DATA_DIR = os.path.join(BASE_DIR, '..', 'data')\n",
    "CheXpert_train_hidden_features_all = np.load(os.path.join(DATA_DIR,'CheXpert_train_hidden_features_all.npy'))\n",
    "CheXpert_train_labels_all = np.load(os.path.join(DATA_DIR,'CheXpert_train_labels_all.npy'))\n",
    "CheXpert_valid_hidden_features_all = np.load(os.path.join(DATA_DIR,'CheXpert_valid_hidden_features_all.npy'))\n",
    "CheXpert_valid_labels_all = np.load(os.path.join(DATA_DIR,'CheXpert_valid_labels_all.npy'))\n",
    "extra_valid_age_sex_df = pd.read_csv(os.path.join(DATA_DIR,'extra_valid_age_sex.csv'))\n",
    "extra_valid_hidden_features = np.load(os.path.join(DATA_DIR,'extra_valid_hidden_features.npy'))\n",
    "extra_valid_labels = np.load(os.path.join(DATA_DIR,'extra_valid_labels.npy'))\n",
    "extra_valid_images = glob(os.path.join(DATA_DIR, 'extraValid', '*'))"
   ]
  },
  {
   "cell_type": "code",
   "execution_count": 6,
   "id": "c15af555",
   "metadata": {},
   "outputs": [],
   "source": [
    "label_headers = ['Cardiomegaly', 'Edema', 'Consolidation', 'Atelectasis', 'P. Effusion']\n",
    "CheXpert_train_labels_all_df = pd.DataFrame(CheXpert_train_labels_all, columns=label_headers)\n",
    "CheXpert_valid_labels_all_df = pd.DataFrame(CheXpert_valid_labels_all, columns=label_headers)\n",
    "extra_valid_labels_df = pd.DataFrame(extra_valid_labels, columns=label_headers)"
   ]
  },
  {
   "cell_type": "code",
   "execution_count": 29,
   "id": "b976461f",
   "metadata": {},
   "outputs": [
    {
     "name": "stdout",
     "output_type": "stream",
     "text": [
      "0.26183346537578384\n"
     ]
    }
   ],
   "source": [
    "# Label smoothing. Single example can have multiple labels\n",
    "total = 0\n",
    "for i, row in enumerate(CheXpert_train_labels_all):\n",
    "    count = 0\n",
    "    for j, col in enumerate(row):\n",
    "        if CheXpert_train_labels_all[i,j] == 1:\n",
    "            count += 1\n",
    "    if count >= 2:\n",
    "        total += 1\n",
    "print(total / i)"
   ]
  },
  {
   "cell_type": "code",
   "execution_count": 53,
   "id": "aa1ef6ee",
   "metadata": {},
   "outputs": [],
   "source": [
    "gbc = GradientBoostingClassifier(n_estimators=200, learning_rate=0.1, max_depth=10, random_state=0)\n",
    "multi_target_gbc = MultiOutputClassifier(gbc, n_jobs=-1)"
   ]
  },
  {
   "cell_type": "code",
   "execution_count": null,
   "id": "2145dda2",
   "metadata": {},
   "outputs": [],
   "source": [
    "gbc_fitted = multi_target_gbc.fit(CheXpert_train_hidden_features_all, CheXpert_train_labels_all)"
   ]
  },
  {
   "cell_type": "code",
   "execution_count": 36,
   "id": "d3dcee86",
   "metadata": {},
   "outputs": [
    {
     "data": {
      "text/plain": [
       "0.4188034188034188"
      ]
     },
     "execution_count": 36,
     "metadata": {},
     "output_type": "execute_result"
    }
   ],
   "source": [
    "gbc_fitted.score(CheXpert_valid_hidden_features_all, CheXpert_valid_labels_all)"
   ]
  },
  {
   "cell_type": "code",
   "execution_count": 38,
   "id": "4cb43f56",
   "metadata": {},
   "outputs": [],
   "source": [
    "y_pred = gbc_fitted.predict_proba(CheXpert_valid_hidden_features_all)"
   ]
  },
  {
   "cell_type": "code",
   "execution_count": 47,
   "id": "3fed141e",
   "metadata": {},
   "outputs": [],
   "source": [
    "y_pred = np.transpose([pred[:, 1] for pred in y_pred])"
   ]
  },
  {
   "cell_type": "code",
   "execution_count": 49,
   "id": "0457d6df",
   "metadata": {},
   "outputs": [],
   "source": [
    "auc = roc_auc_score(CheXpert_valid_labels_all, y_pred, average=None)"
   ]
  },
  {
   "cell_type": "code",
   "execution_count": 51,
   "id": "9dca9425",
   "metadata": {},
   "outputs": [
    {
     "name": "stdout",
     "output_type": "stream",
     "text": [
      "0.17854390912575177\n"
     ]
    }
   ],
   "source": [
    "# lr 0.1, estimators 100, max_depth 1\n",
    "print(np.mean(auc))"
   ]
  }
 ],
 "metadata": {
  "kernelspec": {
   "display_name": "Python 3 (ipykernel)",
   "language": "python",
   "name": "python3"
  },
  "language_info": {
   "codemirror_mode": {
    "name": "ipython",
    "version": 3
   },
   "file_extension": ".py",
   "mimetype": "text/x-python",
   "name": "python",
   "nbconvert_exporter": "python",
   "pygments_lexer": "ipython3",
   "version": "3.9.1"
  }
 },
 "nbformat": 4,
 "nbformat_minor": 5
}
